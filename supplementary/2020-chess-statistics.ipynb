{
 "cells": [
  {
   "cell_type": "code",
   "execution_count": 1,
   "metadata": {},
   "outputs": [],
   "source": [
    "from pathlib import Path\n",
    "\n",
    "import pandas as pd\n",
    "\n",
    "pd.set_option('display.max_columns', 500)\n",
    "pd.set_option('display.max_colwidth', 150)\n",
    "\n",
    "ROOT_PATH = Path('..')\n",
    "DATA_PATH = ROOT_PATH / 'data'\n",
    "if not DATA_PATH.exists():\n",
    "    DATA_PATH.mkdir(parents=True)"
   ]
  },
  {
   "cell_type": "markdown",
   "metadata": {},
   "source": [
    "# 2020 Population Statistics"
   ]
  },
  {
   "cell_type": "markdown",
   "metadata": {},
   "source": [
    "## External Websites\n",
    "- The population of the US in 2020 was about near 330 million. \n",
    "    - US Women Population 2020: 167.5 million\n",
    "    - US Men Population 2020: 162.4 million\n",
    "\n",
    "- 15%: percentage of US adults who actively play chess: https://www.chess.com/news/view/how-popular-is-chess-8306\n",
    "    - Thus about 49.5 million Americans played chess somewhat actively.\n",
    "- FIDE women percentage: ~10.1 percent were female; US: ~8.2:\n",
    "  https://slate.com/technology/2020/12/why-are-the-best-chess-players-men.html\n"
   ]
  },
  {
   "cell_type": "markdown",
   "metadata": {},
   "source": [
    "## 2020-12-30 FIDE Population Extraction"
   ]
  },
  {
   "cell_type": "code",
   "execution_count": 2,
   "metadata": {},
   "outputs": [],
   "source": [
    "df = pd.read_xml(DATA_PATH / '2020-12-30_fide-standard-ratings-xml.zip', compression='zip')"
   ]
  },
  {
   "cell_type": "code",
   "execution_count": 8,
   "metadata": {},
   "outputs": [
    {
     "data": {
      "text/plain": [
       "(324249, 38244, 362493)"
      ]
     },
     "execution_count": 8,
     "metadata": {},
     "output_type": "execute_result"
    }
   ],
   "source": [
    "n_m = (df['sex'] == 'M').sum()\n",
    "n_w = (df['sex'] == 'F').sum()\n",
    "m_w_ratio = n_m / n_w\n",
    "n_m, n_w, n_m + n_w"
   ]
  },
  {
   "cell_type": "code",
   "execution_count": 13,
   "metadata": {},
   "outputs": [
    {
     "data": {
      "text/plain": [
       "(37, 1688, 1725)"
      ]
     },
     "execution_count": 13,
     "metadata": {},
     "output_type": "execute_result"
    }
   ],
   "source": [
    "gm_df = df[df['title'] == 'GM']\n",
    "gm_df_w = gm_df[gm_df['sex'] == 'F']\n",
    "gm_df_m = gm_df[gm_df['sex'] == 'M']\n",
    "len(gm_df_w), len(gm_df_m), len(gm_df_m) + len(gm_df_w)"
   ]
  },
  {
   "cell_type": "code",
   "execution_count": 12,
   "metadata": {},
   "outputs": [
    {
     "data": {
      "text/plain": [
       "(77, 3035, 3112)"
      ]
     },
     "execution_count": 12,
     "metadata": {},
     "output_type": "execute_result"
    }
   ],
   "source": [
    "gt2400_df = df[df['rating'] > 2400]\n",
    "gt2400_df_w = gt2400_df[gt2400_df['sex'] == 'F']\n",
    "gt2400_df_m = gt2400_df[gt2400_df['sex'] == 'M']\n",
    "len(gt2400_df_w), len(gt2400_df_m), len(gt2400_df_m) + len(gt2400_df_w)"
   ]
  },
  {
   "cell_type": "code",
   "execution_count": 10,
   "metadata": {},
   "outputs": [
    {
     "data": {
      "text/plain": [
       "(6191, 499, 6690)"
      ]
     },
     "execution_count": 10,
     "metadata": {},
     "output_type": "execute_result"
    }
   ],
   "source": [
    "us_df = df[(df['country'] == 'USA') & df['rating'].notna()]\n",
    "n_us_m = (us_df['sex'] == 'M').sum()\n",
    "n_us_w = (us_df['sex'] == 'F').sum()\n",
    "n_us_m, n_us_w, n_us_m + n_us_w"
   ]
  },
  {
   "cell_type": "code",
   "execution_count": 11,
   "metadata": {},
   "outputs": [
    {
     "data": {
      "text/plain": [
       "(94, 1, 95)"
      ]
     },
     "execution_count": 11,
     "metadata": {},
     "output_type": "execute_result"
    }
   ],
   "source": [
    "us_gm_df = us_df[us_df['title'] == 'GM']\n",
    "n_us_gm_m = (us_gm_df['sex'] == 'M').sum()\n",
    "n_us_gm_w = (us_gm_df['sex'] == 'F').sum()\n",
    "n_us_gm_m, n_us_gm_w, n_us_gm_m + n_us_gm_w"
   ]
  },
  {
   "cell_type": "code",
   "execution_count": 22,
   "metadata": {},
   "outputs": [
    {
     "data": {
      "text/plain": [
       "(215, 15470, 15685)"
      ]
     },
     "execution_count": 22,
     "metadata": {},
     "output_type": "execute_result"
    }
   ],
   "source": [
    "titled_df = df[df['title'].notna()]\n",
    "titled_df_w = titled_df[(titled_df['sex'] == 'F') & (titled_df['title'] != titled_df['w_title'])] # for a fair comparison, we want titles to be on par with each other\n",
    "titled_df_m = titled_df[titled_df['sex'] == 'M']\n",
    "len(titled_df_w), len(titled_df_m), len(titled_df_m) + len(titled_df_w)"
   ]
  },
  {
   "cell_type": "code",
   "execution_count": 24,
   "metadata": {},
   "outputs": [
    {
     "data": {
      "text/plain": [
       "(98, 2, 100)"
      ]
     },
     "execution_count": 24,
     "metadata": {},
     "output_type": "execute_result"
    }
   ],
   "source": [
    "top1k_df = df.sort_values('rating',ascending=False).head(1000)\n",
    "n_top1k_w = (top1k_df['sex'] == 'F').sum()\n",
    "n_top1k_m = (top1k_df['sex'] == 'M').sum()\n",
    "n_top1k_m, n_top1k_w, n_top1k_m + n_top1k_w"
   ]
  },
  {
   "cell_type": "code",
   "execution_count": null,
   "metadata": {},
   "outputs": [],
   "source": []
  }
 ],
 "metadata": {
  "kernelspec": {
   "display_name": "temp10",
   "language": "python",
   "name": "python3"
  },
  "language_info": {
   "codemirror_mode": {
    "name": "ipython",
    "version": 3
   },
   "file_extension": ".py",
   "mimetype": "text/x-python",
   "name": "python",
   "nbconvert_exporter": "python",
   "pygments_lexer": "ipython3",
   "version": "3.10.13"
  }
 },
 "nbformat": 4,
 "nbformat_minor": 2
}
